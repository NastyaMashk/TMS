{
  "nbformat": 4,
  "nbformat_minor": 0,
  "metadata": {
    "colab": {
      "provenance": []
    },
    "kernelspec": {
      "name": "python3",
      "display_name": "Python 3"
    },
    "language_info": {
      "name": "python"
    }
  },
  "cells": [
    {
      "cell_type": "code",
      "execution_count": null,
      "metadata": {
        "colab": {
          "base_uri": "https://localhost:8080/"
        },
        "id": "YGzmR3cr9tlE",
        "outputId": "eb96d41f-e8a2-40b8-dfe8-5122b015e4c2"
      },
      "outputs": [
        {
          "output_type": "stream",
          "name": "stdout",
          "text": [
            "1.79\n",
            "2.775368323057839\n"
          ]
        }
      ],
      "source": [
        "# вычислить значение выражения\n",
        "\n",
        "from math import cos, exp, sin, log, pi, pow\n",
        "\n",
        "x = float(input())\n",
        "def func(x):\n",
        "  if type(x) == float or type(x) == int:\n",
        "    y = pow(( cos( exp(x) ) + pow(log(1 + x), 2) + pow(exp(cos(x)) + pow( sin(pi*x),2), 0.5) + pow(1/x, 0.5) + cos(pow(x,2))), sin(x))\n",
        "    print(y)\n",
        "  else:\n",
        "    print('x is not a number')\n",
        "func(x)"
      ]
    },
    {
      "cell_type": "code",
      "source": [
        "# найти подстроку в строке\n",
        "def search_substr(subst, st):\n",
        "  subst = str(subst.lower())\n",
        "  st = str(st.lower())\n",
        "  d = st.find(subst)\n",
        "  if d >= 0:\n",
        "    print('Есть контакт!')\n",
        "  else:\n",
        "    print('Мимо!')\n",
        "  print(d)\n",
        "search_substr('ПР', 'привет')"
      ],
      "metadata": {
        "colab": {
          "base_uri": "https://localhost:8080/"
        },
        "id": "KiFwy3nk_uR6",
        "outputId": "1e085f7a-7f63-42e0-d633-c6f991da07a9"
      },
      "execution_count": null,
      "outputs": [
        {
          "output_type": "stream",
          "name": "stdout",
          "text": [
            "Есть контакт!\n",
            "0\n"
          ]
        }
      ]
    },
    {
      "cell_type": "code",
      "source": [
        "# 3 наиболее часто встречающихся символа\n",
        "import collections\n",
        "st = 'adkchshhhaag'\n",
        "coun = collections.Counter()\n",
        "for c in st:\n",
        "  coun[c] += 1\n",
        "coun.most_common(3)"
      ],
      "metadata": {
        "colab": {
          "base_uri": "https://localhost:8080/"
        },
        "id": "WF7e49DYIWlb",
        "outputId": "67f8d1b4-04ce-4c82-f4f8-f371a4abc1ef"
      },
      "execution_count": null,
      "outputs": [
        {
          "output_type": "execute_result",
          "data": {
            "text/plain": [
              "[('h', 4), ('a', 3), ('d', 1)]"
            ]
          },
          "metadata": {},
          "execution_count": 25
        }
      ]
    },
    {
      "cell_type": "code",
      "source": [
        "# словарь с числами и их количеством в заданной последовательности\n",
        "import collections\n",
        "\n",
        "seq = '5356651045654879879805413543463'\n",
        "\n",
        "def count_it(seq):\n",
        "  count_numbers = collections.Counter()\n",
        "  for s in seq:\n",
        "    count_numbers[s] += 1\n",
        "  dict_numbers = dict(count_numbers.most_common(3))\n",
        "  print(dict_numbers)\n",
        "\n",
        "count_it(seq)"
      ],
      "metadata": {
        "colab": {
          "base_uri": "https://localhost:8080/"
        },
        "id": "rrtUpV4QJWrl",
        "outputId": "706f4ba0-18f6-41da-a7b9-adfb0f8b3148"
      },
      "execution_count": null,
      "outputs": [
        {
          "output_type": "stream",
          "name": "stdout",
          "text": [
            "{'5': 7, '4': 5, '3': 4}\n"
          ]
        }
      ]
    },
    {
      "cell_type": "code",
      "source": [
        "# шахматы (угражает ли вам вражеский ферзь)\n",
        "\n",
        "a, b = int(input('Введите координаты вашей фигуры a = ')), int(input('b = '))\n",
        "c, d = int(input('Введите координаты вражеской фигуры c =')), int(input('d ='))\n",
        "\n",
        "if 0 < a <= 8 and 0 < b <= 8 and 0 < c <= 8 and 0 < d <= 8:\n",
        "  if a == c or b == d:\n",
        "    print('Ваша фигура под угрозой ферзя!')\n",
        "  elif abs(c - a) == abs(d - b):\n",
        "    print('Ваша фигура под угрозой ферзя!')\n",
        "  else:\n",
        "    print('Вашей фигуре ферзь не угрожает :)')\n",
        "else:\n",
        "  print('Координаты фигур введены неправильно!!!')"
      ],
      "metadata": {
        "colab": {
          "base_uri": "https://localhost:8080/"
        },
        "id": "O1P3kg1aEiop",
        "outputId": "97de7c0b-a6b6-4430-9e12-96048e17759f"
      },
      "execution_count": null,
      "outputs": [
        {
          "output_type": "stream",
          "name": "stdout",
          "text": [
            "Введите координаты вашей фигуры a = \t1\n",
            "b = 6\n",
            "Введите координаты вражеской фигуры c =0\n",
            "d =9\n",
            "Координаты фигур введены неправильно!!!\n"
          ]
        }
      ]
    },
    {
      "cell_type": "code",
      "source": [
        "# шахматы (угражает ли вам вражеский конь)\n",
        "\n",
        "a, b = int(input('Введите координаты вашей фигуры a = ')), int(input('b = '))\n",
        "c, d = int(input('Введите координаты вражеской фигуры c =')), int(input('d ='))\n",
        "\n",
        "if 0 < a <= 8 and 0 < b <= 8 and 0 < c <= 8 and 0 < d <= 8:\n",
        "  if abs(a - c) == 1 and abs(b - d) == 2 or abs(a - c) == 2 and abs(b - d) == 1:\n",
        "    print('Ваша фигура под угрозой коня!')\n",
        "  else:\n",
        "    print('Вашей фигуре конь не угрожает :)')\n",
        "else:\n",
        "  print('Координаты фигур введены неправильно!!!')"
      ],
      "metadata": {
        "colab": {
          "base_uri": "https://localhost:8080/"
        },
        "id": "AG74wl3iTU8S",
        "outputId": "3e3e0a2c-f3c9-4f05-d63c-667f0b610dfd"
      },
      "execution_count": null,
      "outputs": [
        {
          "output_type": "stream",
          "name": "stdout",
          "text": [
            "Введите координаты вашей фигуры a = 0\n",
            "b = 7\n",
            "Введите координаты вражеской фигуры c =55\n",
            "d =4\n",
            "Координаты фигур введены неправильно!!!\n"
          ]
        }
      ]
    },
    {
      "cell_type": "code",
      "source": [
        "# сложная задача с шахматами\n",
        "\n",
        "a, b = map(int, input('Введите координаты вашего коня через пробел: ').split())\n",
        "c, d = map(int, input('Введите координаты вражеской фигуры через пробел: ').split())\n",
        "\n",
        "def is_in_danger(a, b, c, d):\n",
        "  flag = False\n",
        "  if 0 < a <= 8 and 0 < b <= 8 and 0 < c <= 8 and 0 < d <= 8:\n",
        "    if abs(a - c) == 1 and abs(b - d) == 2 or abs(a - c) == 2 and abs(b - d) == 1:\n",
        "      flag = True\n",
        "  return flag\n",
        "\n",
        "if is_in_danger(a, b, c, d):\n",
        "  print('Ваш конь угрожает сопернику в один ход :)')\n",
        "elif is_in_danger(a+1, b+2, c, d) or is_in_danger(a+1, b-2, c, d) or is_in_danger(a-1, b+2, c, d) or is_in_danger(a-1, b-2, c, d) or is_in_danger(a+2, b+1, c, d) or is_in_danger(a+2, b-1, c, d) or is_in_danger(a-2, b+1, c, d) or is_in_danger(a-2, b-1, c, d):\n",
        "  print('Ваш конь угрожает сопернику в два хода:)')\n",
        "else:\n",
        "  print('Ваш конь сопернику не угрожает')\n"
      ],
      "metadata": {
        "colab": {
          "base_uri": "https://localhost:8080/"
        },
        "id": "PBeNJkLx6zoa",
        "outputId": "752540d4-6028-401c-eaf0-5812c8f639ea"
      },
      "execution_count": 4,
      "outputs": [
        {
          "output_type": "stream",
          "name": "stdout",
          "text": [
            "Введите координаты вашего коня через пробел: 1 1\n",
            "Введите координаты вражеской фигуры через пробел: 5 3\n",
            "Ваш конь угрожает сопернику в два хода:)\n"
          ]
        }
      ]
    }
  ]
}