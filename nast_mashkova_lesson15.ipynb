{
  "nbformat": 4,
  "nbformat_minor": 0,
  "metadata": {
    "colab": {
      "provenance": []
    },
    "kernelspec": {
      "name": "python3",
      "display_name": "Python 3"
    },
    "language_info": {
      "name": "python"
    }
  },
  "cells": [
    {
      "cell_type": "code",
      "source": [
        "import numpy as np\n",
        "import pandas as pd\n",
        "\n",
        "import matplotlib.pyplot as plt\n",
        "\n",
        "from sklearn.model_selection import train_test_split"
      ],
      "metadata": {
        "id": "FNwvlXe5fkWt"
      },
      "execution_count": 10,
      "outputs": []
    },
    {
      "cell_type": "markdown",
      "source": [
        "Функция ошибок"
      ],
      "metadata": {
        "id": "-Bu-hkKAnOaF"
      }
    },
    {
      "cell_type": "code",
      "source": [
        "y_targ = np.array([0.5, 2.1, 9.8, 7.7, 7.6, 3.5, 0.0, 3.9, 1.8, 8.2])\n",
        "y_pred = np.array([0, 1.9, 10.2, 8, 8.1, 3.9, 0.5, 4, 2.3, 8.5])"
      ],
      "metadata": {
        "id": "f7qMwbxqoSg_"
      },
      "execution_count": null,
      "outputs": []
    },
    {
      "cell_type": "code",
      "source": [
        "def mae (target, predict):\n",
        "\n",
        "  size = len(target)\n",
        "  m = sum(abs(target[i] - predict [i]) for i in range(size))/size\n",
        "\n",
        "  return m"
      ],
      "metadata": {
        "id": "WbVXPwO4h_bs"
      },
      "execution_count": null,
      "outputs": []
    },
    {
      "cell_type": "code",
      "source": [
        "mae(y_targ, y_pred)"
      ],
      "metadata": {
        "colab": {
          "base_uri": "https://localhost:8080/"
        },
        "id": "NFdrFGMOpDTW",
        "outputId": "49f92711-1e89-45aa-c1a6-1428d4be8712"
      },
      "execution_count": null,
      "outputs": [
        {
          "output_type": "execute_result",
          "data": {
            "text/plain": [
              "0.36999999999999994"
            ]
          },
          "metadata": {},
          "execution_count": 5
        }
      ]
    },
    {
      "cell_type": "code",
      "source": [
        "def mse (target, predict):\n",
        "\n",
        "  size = len(target)\n",
        "  m = sum((target[i] - predict [i])**2 for i in range(size))/size\n",
        "\n",
        "  return m"
      ],
      "metadata": {
        "id": "LUyj0IgGpSfU"
      },
      "execution_count": null,
      "outputs": []
    },
    {
      "cell_type": "code",
      "source": [
        "mse(y_targ, y_pred)"
      ],
      "metadata": {
        "colab": {
          "base_uri": "https://localhost:8080/"
        },
        "id": "2Np4JBrupghQ",
        "outputId": "a41f0ff2-c88e-481b-9d9b-741d5752410c"
      },
      "execution_count": null,
      "outputs": [
        {
          "output_type": "execute_result",
          "data": {
            "text/plain": [
              "0.15499999999999992"
            ]
          },
          "metadata": {},
          "execution_count": 7
        }
      ]
    },
    {
      "cell_type": "markdown",
      "source": [
        "mse более чуствительна к выбросам, однако, если разность в большинстве своём меньше 1, то при возведении в квадрат, это значение уменьшается"
      ],
      "metadata": {
        "id": "UqCEDsQ4jSPe"
      }
    },
    {
      "cell_type": "code",
      "source": [
        "def f1_score(target, predict):\n",
        "\n",
        "  size = len(target)\n",
        "\n",
        "  for i in range(size):\n",
        "    tp = sum(target[i] == 1 and predict[i] == 1 for i in range(size))\n",
        "    fn = sum(target[i] == 1 and predict[i] == 0 for i in range(size))\n",
        "    fp = sum(target[i] == 0 and predict[i] == 1 for i in range(size))\n",
        "\n",
        "  precision = tp / (tp + fp)\n",
        "  recall = tp / (tp + fn)\n",
        "\n",
        "  f1 = 2 * precision * recall / (precision + recall)\n",
        "  return f1"
      ],
      "metadata": {
        "id": "coYGKPXLpmeX"
      },
      "execution_count": 7,
      "outputs": []
    },
    {
      "cell_type": "code",
      "source": [
        "def accuracy(target, predict):\n",
        "\n",
        "  size = len(target)\n",
        "  corr = sum(target[i] == 1 and predict[i] == 1 for i in range(size))\n",
        "  acc = corr / size\n",
        "\n",
        "  return acc"
      ],
      "metadata": {
        "id": "7Gdhv0obvPKl"
      },
      "execution_count": 8,
      "outputs": []
    },
    {
      "cell_type": "code",
      "source": [
        "yt = np.array([1, 1, 0, 1, 1, 0, 1, 1, 0, 0])\n",
        "yp = np.array([1, 1, 1, 1, 1, 1, 1, 1, 1, 1])"
      ],
      "metadata": {
        "id": "rEHKO5OBtXTu"
      },
      "execution_count": 11,
      "outputs": []
    },
    {
      "cell_type": "code",
      "source": [
        "print(f\"F1 score: {f1_score(yt, yp)}\")\n",
        "print(f\"Accuracy: {accuracy(yt, yp)}\")"
      ],
      "metadata": {
        "colab": {
          "base_uri": "https://localhost:8080/"
        },
        "id": "6VbtMQqtzYdb",
        "outputId": "1629e184-87fa-4e2d-cc10-6d72e79253f7"
      },
      "execution_count": 12,
      "outputs": [
        {
          "output_type": "stream",
          "name": "stdout",
          "text": [
            "F1 score: 0.7499999999999999\n",
            "Accuracy: 0.6\n"
          ]
        }
      ]
    },
    {
      "cell_type": "markdown",
      "source": [
        "Линейная регрессия"
      ],
      "metadata": {
        "id": "sAOz13FLLF14"
      }
    },
    {
      "cell_type": "code",
      "source": [
        "def linar_regression(x, y, alpha = 0.01, iters = 1000):\n",
        "  n = len(x)\n",
        "  w0 = 0\n",
        "  w1 = 0\n",
        "\n",
        "  for _ in range(iters):\n",
        "    y_prediction = w0 + w1 * x\n",
        "    dw0 = (-2 / n) * sum((y - y_prediction) / abs(y - y_prediction))\n",
        "    dw1 = (-2 / n) * sum(x * (y - y_prediction) / abs(y - y_prediction))\n",
        "\n",
        "    w0 -= alpha * dw0\n",
        "    w1 -= alpha * dw1\n",
        "\n",
        "  return w0, w1"
      ],
      "metadata": {
        "id": "WBdoHkYaLIUF"
      },
      "execution_count": 17,
      "outputs": []
    },
    {
      "cell_type": "code",
      "source": [
        "x = np.array([1, 2, 3, 4, 5, 6])\n",
        "y = np.array([7, 9, 11, 13, 15, 17])"
      ],
      "metadata": {
        "id": "FP-ynvM0NO02"
      },
      "execution_count": 15,
      "outputs": []
    },
    {
      "cell_type": "code",
      "source": [
        "a, b = linar_regression(x, y)\n",
        "print(a, b)"
      ],
      "metadata": {
        "colab": {
          "base_uri": "https://localhost:8080/"
        },
        "id": "MVMhvaIHN33N",
        "outputId": "cda159a5-9398-4e81-8ce7-eb17f5f449ec"
      },
      "execution_count": 18,
      "outputs": [
        {
          "output_type": "stream",
          "name": "stdout",
          "text": [
            "4.913333333333376 1.9999999999999518\n"
          ]
        }
      ]
    }
  ]
}