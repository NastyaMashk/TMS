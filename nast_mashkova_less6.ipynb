{
  "nbformat": 4,
  "nbformat_minor": 0,
  "metadata": {
    "colab": {
      "provenance": []
    },
    "kernelspec": {
      "name": "python3",
      "display_name": "Python 3"
    },
    "language_info": {
      "name": "python"
    }
  },
  "cells": [
    {
      "cell_type": "code",
      "execution_count": null,
      "metadata": {
        "colab": {
          "base_uri": "https://localhost:8080/"
        },
        "id": "Y43m376TeYJ_",
        "outputId": "34a6fbc6-e31a-4c62-cb2a-05b24e7f4673"
      },
      "outputs": [
        {
          "output_type": "execute_result",
          "data": {
            "text/plain": [
              "(52, 1)"
            ]
          },
          "metadata": {},
          "execution_count": 12
        }
      ],
      "source": [
        "# строка чисел с пробелами, найти максимальное и минимальное\n",
        "\n",
        "def max_and_min_number(st: str) -> int:\n",
        "  '''\n",
        "  Function finds max and min value in string of numbers\n",
        "  :param: string (example: '1 2 0 4 6')\n",
        "  :return: 2 integer (in that case: (6, 0))\n",
        "  '''\n",
        "  lst = st.split()\n",
        "  lst = list(map(int, lst))\n",
        "  max_number = max(lst)\n",
        "  min_number = min(lst)\n",
        "  return max_number, min_number\n",
        "\n",
        "max_and_min_number('4 8 6 52 1 4 8')"
      ]
    },
    {
      "cell_type": "code",
      "source": [
        "# проверка пинкода (4 или 6 цифр)\n",
        "\n",
        "def pin_check(st: str) -> bool:\n",
        "  '''\n",
        "  Function checking the PIN-code\n",
        "  :param: string (example: '254300')\n",
        "  :return: boolean (in that case: True)\n",
        "  '''\n",
        "  res = False\n",
        "  if st.isdigit() and (len(st) == 4 or len(st) == 6):\n",
        "      res = True\n",
        "  return res\n",
        "\n",
        "pin_check('1234')"
      ],
      "metadata": {
        "colab": {
          "base_uri": "https://localhost:8080/"
        },
        "id": "Cd9Pnzfwe_mg",
        "outputId": "105cf821-a1c9-4097-f236-214924bca904"
      },
      "execution_count": null,
      "outputs": [
        {
          "output_type": "execute_result",
          "data": {
            "text/plain": [
              "True"
            ]
          },
          "metadata": {},
          "execution_count": 9
        }
      ]
    },
    {
      "cell_type": "code",
      "source": [
        "# квадратное число\n",
        "\n",
        "def square_number(n: int) -> bool:\n",
        "  '''\n",
        "  function desides whether number is perfect square of another number\n",
        "  :param: int\n",
        "  :return: bool\n",
        "  '''\n",
        "  if n ** 0.5 == int(n ** 0.5):\n",
        "    return True\n",
        "  else:\n",
        "    return False\n",
        "\n",
        "list(filter(square_number, [2, 6, 4, 16, 81, 55]))"
      ],
      "metadata": {
        "id": "FgjWNJ61ib22",
        "colab": {
          "base_uri": "https://localhost:8080/"
        },
        "outputId": "b689550e-23bd-4d1c-8e92-13df3c6b691f"
      },
      "execution_count": null,
      "outputs": [
        {
          "output_type": "execute_result",
          "data": {
            "text/plain": [
              "[4, 16, 81]"
            ]
          },
          "metadata": {},
          "execution_count": 6
        }
      ]
    },
    {
      "cell_type": "code",
      "source": [
        "# последовательность чисел, возвращаются без повторений рядом\n",
        "\n",
        "def unique_in_order(lst: list) -> list:\n",
        "  '''\n",
        "  function deletes all equal numbers that stands beside\n",
        "  :param: list of numbers (ex: [1, 2, 2, 3, 4, 2])\n",
        "  :return: list of numbers (in that case: [1, 2, 3, 4, 2])\n",
        "  '''\n",
        "  new_lst = [lst[0]]\n",
        "  for item in lst:\n",
        "    if item != new_lst[-1]:\n",
        "      new_lst.append(item)\n",
        "  return new_lst\n",
        "\n",
        "unique_in_order([4, 5, 5, 8, 5, 5, 7])"
      ],
      "metadata": {
        "colab": {
          "base_uri": "https://localhost:8080/"
        },
        "id": "voxJMmq_m-YQ",
        "outputId": "5220d25f-d931-40d8-ec54-f3ca0e009468"
      },
      "execution_count": null,
      "outputs": [
        {
          "output_type": "execute_result",
          "data": {
            "text/plain": [
              "[4, 5, 8, 5, 7]"
            ]
          },
          "metadata": {},
          "execution_count": 16
        }
      ]
    },
    {
      "cell_type": "code",
      "source": [
        "# вернуть длину самого короткого слова в строке\n",
        "\n",
        "def min_lenght_in_string(st: str) -> int:\n",
        "  '''\n",
        "  function finds the length of the shortest word in the string\n",
        "  :param: string\n",
        "  :return: int\n",
        "  '''\n",
        "  lst = st.split()\n",
        "  new_lst = list(map(len, lst))\n",
        "  return min(new_lst)\n",
        "\n",
        "min_lenght_in_string('hello you there')"
      ],
      "metadata": {
        "colab": {
          "base_uri": "https://localhost:8080/"
        },
        "id": "kEucYgmgpLsF",
        "outputId": "107cfb04-04a8-4dd2-e30e-d86d0d2677bf"
      },
      "execution_count": null,
      "outputs": [
        {
          "output_type": "execute_result",
          "data": {
            "text/plain": [
              "3"
            ]
          },
          "metadata": {},
          "execution_count": 23
        }
      ]
    },
    {
      "cell_type": "code",
      "source": [
        "# цифровой корень\n",
        "\n",
        "def digital_root(number: int) -> int:\n",
        "  '''\n",
        "  recursive function to find te square root of some number (multiplication of digits)\n",
        "  :param: int\n",
        "  :return: int\n",
        "  '''\n",
        "  if 0 <= number < 10:\n",
        "    return number\n",
        "  else:\n",
        "    while number > 9:\n",
        "      last_digit = number % 10\n",
        "      number //= 10\n",
        "      return last_digit*digital_root(number)\n",
        "\n",
        "digital_root(1243)"
      ],
      "metadata": {
        "colab": {
          "base_uri": "https://localhost:8080/"
        },
        "id": "6-SPdxiWp7XX",
        "outputId": "ea15c1f5-c34a-4593-d9e9-ee1a83b205a8"
      },
      "execution_count": null,
      "outputs": [
        {
          "output_type": "execute_result",
          "data": {
            "text/plain": [
              "24"
            ]
          },
          "metadata": {},
          "execution_count": 26
        }
      ]
    },
    {
      "cell_type": "code",
      "source": [
        "# средний символ слова\n",
        "\n",
        "def middle_char_of_word(st: str) -> str:\n",
        "  '''\n",
        "  function returns the middle character of the word (2 middle characters if the length is even)\n",
        "  :param: string\n",
        "  :return: string\n",
        "  '''\n",
        "  if len(st) % 2 == 1:\n",
        "    return st[len(st)//2]\n",
        "  else:\n",
        "    return st[len(st) // 2 - 1:len(st) // 2 + 1]\n",
        "\n",
        "middle_char_of_word('python')"
      ],
      "metadata": {
        "colab": {
          "base_uri": "https://localhost:8080/",
          "height": 38
        },
        "id": "mwkrVpvSsRnA",
        "outputId": "0cdf6ec1-c4b7-4ec3-fd68-3a94dfbcc4fc"
      },
      "execution_count": null,
      "outputs": [
        {
          "output_type": "execute_result",
          "data": {
            "text/plain": [
              "'th'"
            ],
            "application/vnd.google.colaboratory.intrinsic+json": {
              "type": "string"
            }
          },
          "metadata": {},
          "execution_count": 29
        }
      ]
    },
    {
      "cell_type": "code",
      "source": [
        "# простое ли число\n",
        "\n",
        "def prime_number(number: int) -> bool:\n",
        "  '''\n",
        "  function decides whether number is prime\n",
        "  :param: int\n",
        "  :return: bool\n",
        "  '''\n",
        "  if number == 1:\n",
        "    return False\n",
        "  res = True\n",
        "  for i in range(2, int(number**0.5) + 1):\n",
        "    if number % i == 0:\n",
        "      res = False\n",
        "      break\n",
        "  return res\n",
        "\n",
        "prime_number(10)"
      ],
      "metadata": {
        "colab": {
          "base_uri": "https://localhost:8080/"
        },
        "id": "ngtbpZkatRrU",
        "outputId": "97d1e7ef-2d4d-4ae6-ae70-a440d7f36261"
      },
      "execution_count": null,
      "outputs": [
        {
          "output_type": "execute_result",
          "data": {
            "text/plain": [
              "False"
            ]
          },
          "metadata": {},
          "execution_count": 36
        }
      ]
    },
    {
      "cell_type": "code",
      "source": [
        "# чет/нечет сумма элементов списка\n",
        "\n",
        "def is_numbers_sum_even(lst: list) -> bool:\n",
        "  '''\n",
        "  function decides whether the sum of numbers is even\n",
        "  :param: list of numbers\n",
        "  :return: bool\n",
        "  '''\n",
        "  if sum(lst) % 2 == 0:\n",
        "    return True\n",
        "  else:\n",
        "    return False\n",
        "\n",
        "is_numbers_sum_even([1, 2, 3, 4])"
      ],
      "metadata": {
        "colab": {
          "base_uri": "https://localhost:8080/"
        },
        "id": "LtX8xkK9uvGw",
        "outputId": "c654a0db-402a-4943-b159-f566d36ba8d2"
      },
      "execution_count": null,
      "outputs": [
        {
          "output_type": "execute_result",
          "data": {
            "text/plain": [
              "True"
            ]
          },
          "metadata": {},
          "execution_count": 37
        }
      ]
    },
    {
      "cell_type": "code",
      "source": [],
      "metadata": {
        "id": "kne-re1gIbov"
      },
      "execution_count": null,
      "outputs": []
    }
  ]
}