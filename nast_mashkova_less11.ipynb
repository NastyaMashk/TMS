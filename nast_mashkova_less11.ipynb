{
  "nbformat": 4,
  "nbformat_minor": 0,
  "metadata": {
    "colab": {
      "provenance": []
    },
    "kernelspec": {
      "name": "python3",
      "display_name": "Python 3"
    },
    "language_info": {
      "name": "python"
    }
  },
  "cells": [
    {
      "cell_type": "code",
      "execution_count": 4,
      "metadata": {
        "id": "es3rxiflP6VP"
      },
      "outputs": [],
      "source": [
        "import numpy as np"
      ]
    },
    {
      "cell_type": "markdown",
      "source": [
        "Найти: А+В, В-А, A*C, A*B*C (руками и кодом)"
      ],
      "metadata": {
        "id": "eFCC6ufNP7-3"
      }
    },
    {
      "cell_type": "code",
      "source": [
        "a = np.array([\n",
        "    [1, 2, 4],\n",
        "    [7, 5, -2],\n",
        "    [-2, 1, 3]\n",
        "])\n",
        "\n",
        "b = np.array([\n",
        "    [-1, 0, 3],\n",
        "    [2, -6, 1],\n",
        "    [-7, 1, 5]\n",
        "])\n",
        "\n",
        "c = np.array([\n",
        "    [-2, 3],\n",
        "    [4, 0],\n",
        "    [7, -1]\n",
        "])"
      ],
      "metadata": {
        "id": "CBm9AE95P_kW"
      },
      "execution_count": 5,
      "outputs": []
    },
    {
      "cell_type": "code",
      "source": [
        "a + b"
      ],
      "metadata": {
        "colab": {
          "base_uri": "https://localhost:8080/"
        },
        "id": "ytyv7H0KQpm3",
        "outputId": "97748ce0-21d5-492d-ab12-0d17223ecab3"
      },
      "execution_count": null,
      "outputs": [
        {
          "output_type": "execute_result",
          "data": {
            "text/plain": [
              "array([[ 0,  2,  7],\n",
              "       [ 9, -1, -1],\n",
              "       [-9,  2,  8]])"
            ]
          },
          "metadata": {},
          "execution_count": 5
        }
      ]
    },
    {
      "cell_type": "code",
      "source": [
        "b - a"
      ],
      "metadata": {
        "colab": {
          "base_uri": "https://localhost:8080/"
        },
        "id": "dPna625yQvBt",
        "outputId": "0a478c2f-1e66-4b74-b56d-4ba9a9646439"
      },
      "execution_count": null,
      "outputs": [
        {
          "output_type": "execute_result",
          "data": {
            "text/plain": [
              "array([[ -2,  -2,  -1],\n",
              "       [ -5, -11,   3],\n",
              "       [ -5,   0,   2]])"
            ]
          },
          "metadata": {},
          "execution_count": 4
        }
      ]
    },
    {
      "cell_type": "code",
      "source": [
        "np.dot(a, c)"
      ],
      "metadata": {
        "colab": {
          "base_uri": "https://localhost:8080/"
        },
        "id": "cwyYRpimQy9a",
        "outputId": "4e79b611-de07-461a-db51-c323bfe66770"
      },
      "execution_count": null,
      "outputs": [
        {
          "output_type": "execute_result",
          "data": {
            "text/plain": [
              "array([[34, -1],\n",
              "       [-8, 23],\n",
              "       [29, -9]])"
            ]
          },
          "metadata": {},
          "execution_count": 8
        }
      ]
    },
    {
      "cell_type": "code",
      "source": [
        "d = np.dot(a, b)\n",
        "d"
      ],
      "metadata": {
        "colab": {
          "base_uri": "https://localhost:8080/"
        },
        "id": "HFm8UPu-RNQM",
        "outputId": "d7f8deaa-8266-46be-e48a-9a9c43ee7f0a"
      },
      "execution_count": null,
      "outputs": [
        {
          "output_type": "execute_result",
          "data": {
            "text/plain": [
              "array([[-25,  -8,  25],\n",
              "       [ 17, -32,  16],\n",
              "       [-17,  -3,  10]])"
            ]
          },
          "metadata": {},
          "execution_count": 12
        }
      ]
    },
    {
      "cell_type": "code",
      "source": [
        "np.dot(d, c)"
      ],
      "metadata": {
        "colab": {
          "base_uri": "https://localhost:8080/"
        },
        "id": "rhbZrn6FR7qY",
        "outputId": "e665928e-ea27-49e5-a28f-92fd0a8224a5"
      },
      "execution_count": null,
      "outputs": [
        {
          "output_type": "execute_result",
          "data": {
            "text/plain": [
              "array([[ 193, -100],\n",
              "       [ -50,   35],\n",
              "       [  92,  -61]])"
            ]
          },
          "metadata": {},
          "execution_count": 13
        }
      ]
    },
    {
      "cell_type": "markdown",
      "source": [
        "функция сложения матриц:"
      ],
      "metadata": {
        "id": "F7pr1ZYYC49X"
      }
    },
    {
      "cell_type": "code",
      "source": [
        "def matsum_matrix (matrix1, matrix2):\n",
        "  result = []\n",
        "  for row1, row2 in zip(matrix1, matrix2):\n",
        "    tmp_row = []\n",
        "    for el1, el2 in zip(row1, row2):\n",
        "      tmp_el = el1 + el2\n",
        "      tmp_row.append(tmp_el)\n",
        "    result.append(tmp_row)\n",
        "  return result"
      ],
      "metadata": {
        "id": "m2RiJ9zjC9x_"
      },
      "execution_count": 1,
      "outputs": []
    },
    {
      "cell_type": "code",
      "source": [
        "print(f\" python code: {matsum_matrix(a, b)} \\n numpy {a+b}\")"
      ],
      "metadata": {
        "colab": {
          "base_uri": "https://localhost:8080/"
        },
        "id": "T9epT-umFSA6",
        "outputId": "cf3b650c-25d5-4637-80b2-4de0cad1d471"
      },
      "execution_count": 8,
      "outputs": [
        {
          "output_type": "stream",
          "name": "stdout",
          "text": [
            " python code: [[0, 2, 7], [9, -1, -1], [-9, 2, 8]] \n",
            " numpy [[ 0  2  7]\n",
            " [ 9 -1 -1]\n",
            " [-9  2  8]]\n"
          ]
        }
      ]
    },
    {
      "cell_type": "markdown",
      "source": [
        "транспонирование:"
      ],
      "metadata": {
        "id": "k9VlLEHYHnqO"
      }
    },
    {
      "cell_type": "code",
      "source": [
        "def trans_matrix(matrix):\n",
        "  result = []\n",
        "  for i in range(len(matrix[0])):\n",
        "    temp_row = []\n",
        "    for row in matrix:\n",
        "      temp_row.append(row[i])\n",
        "    result.append(temp_row)\n",
        "  return result"
      ],
      "metadata": {
        "id": "cxu2B8m0Hk_k"
      },
      "execution_count": 9,
      "outputs": []
    },
    {
      "cell_type": "code",
      "source": [
        "print(f\"python code: {trans_matrix(a)} \\n numpy: {a.T}\")"
      ],
      "metadata": {
        "colab": {
          "base_uri": "https://localhost:8080/"
        },
        "id": "sq1b2-9XJFmm",
        "outputId": "29d1757f-85f2-4507-ed9e-6ea412f3a6f0"
      },
      "execution_count": 10,
      "outputs": [
        {
          "output_type": "stream",
          "name": "stdout",
          "text": [
            "python code: [[1, 7, -2], [2, 5, 1], [4, -2, 3]] \n",
            " numpy: [[ 1  7 -2]\n",
            " [ 2  5  1]\n",
            " [ 4 -2  3]]\n"
          ]
        }
      ]
    },
    {
      "cell_type": "markdown",
      "source": [
        "функция умножения матриц:\n"
      ],
      "metadata": {
        "id": "JT7Pj28jGtkH"
      }
    },
    {
      "cell_type": "code",
      "source": [
        "def mul_matrix (matrix1, matrix2):\n",
        "  result = []\n",
        "  matrix2 = trans_matrix(matrix2)\n",
        "  for row1 in matrix1:\n",
        "    temp_row = []\n",
        "    for row2 in matrix2:\n",
        "      temp_el = 0\n",
        "      for el1, el2 in zip(row1, row2):\n",
        "        temp_el += el1*el2\n",
        "      temp_row.append(temp_el)\n",
        "    result.append(temp_row)\n",
        "  return result"
      ],
      "metadata": {
        "id": "9NrZxC4LGyQ5"
      },
      "execution_count": 13,
      "outputs": []
    },
    {
      "cell_type": "code",
      "source": [
        "print(f\"python code: {mul_matrix(a, b)} \\n numpy: {np.dot(a, b)}\")"
      ],
      "metadata": {
        "colab": {
          "base_uri": "https://localhost:8080/"
        },
        "id": "uFneUPCFKLz7",
        "outputId": "19ad4acf-de27-4492-874e-8d08c1f49cf0"
      },
      "execution_count": 14,
      "outputs": [
        {
          "output_type": "stream",
          "name": "stdout",
          "text": [
            "python code: [[-25, -8, 25], [17, -32, 16], [-17, -3, 10]] \n",
            " numpy: [[-25  -8  25]\n",
            " [ 17 -32  16]\n",
            " [-17  -3  10]]\n"
          ]
        }
      ]
    },
    {
      "cell_type": "markdown",
      "source": [
        "матричная свёртка:"
      ],
      "metadata": {
        "id": "8eXccabTKsNS"
      }
    },
    {
      "cell_type": "code",
      "source": [
        "matrix = np.array([\n",
        "    [0.5, 0.75, 0.5],\n",
        "    [0.75, 1, 0.75],\n",
        "    [0.5, 0.75, 0.5]\n",
        "])"
      ],
      "metadata": {
        "id": "3B6s1SkeK7C0"
      },
      "execution_count": 15,
      "outputs": []
    },
    {
      "cell_type": "code",
      "source": [
        "picture = np.array([\n",
        "    [12, 14, 41],\n",
        "    [43, 84, 24],\n",
        "    [2, 1, 43]\n",
        "])"
      ],
      "metadata": {
        "id": "qYiEE51RLfG5"
      },
      "execution_count": 16,
      "outputs": []
    },
    {
      "cell_type": "code",
      "source": [
        "def convolution (picture, matrix, div):\n",
        "  # function requires filter size 3x3\n",
        "\n",
        "  # new picture creation (border of 0 pixels)\n",
        "  new_picture = []\n",
        "  width = len(picture[0]) + 2\n",
        "  height = len(picture) + 2\n",
        "\n",
        "  temp_row = []\n",
        "  for i in range(width):\n",
        "    temp_row.append(0)\n",
        "  new_picture.append(temp_row)\n",
        "\n",
        "  for i in range(height-2):\n",
        "    temp_row = []\n",
        "    temp_row.append(0)\n",
        "    for j in range(width-2):\n",
        "      temp_row.append(picture[i][j])\n",
        "    temp_row.append(0)\n",
        "    new_picture.append(temp_row)\n",
        "\n",
        "  temp_row = []\n",
        "  for i in range(width):\n",
        "    temp_row.append(0)\n",
        "  new_picture.append(temp_row)\n",
        "\n",
        "  # filter overlay\n",
        "  for i in range(height-2):\n",
        "    for j in range(width-2):\n",
        "      pixel = np.array([\n",
        "          [new_picture[i][j], new_picture[i][j+1], new_picture[i][j+2]],\n",
        "          [new_picture[i+1][j], new_picture[i+1][j+1], new_picture[i+1][j+2]],\n",
        "          [new_picture[i+2][j], new_picture[i+2][j+1], new_picture[i+2][j+2]]\n",
        "      ])\n",
        "      value = 0\n",
        "      for row1, row2 in zip(pixel, matrix):\n",
        "        for el1, el2 in zip(row1, row2):\n",
        "          value += el1 * el2\n",
        "\n",
        "      picture[i][j] = value * div**(-1)\n",
        "\n",
        "  return picture\n"
      ],
      "metadata": {
        "id": "oDFUjJDHLvHc"
      },
      "execution_count": 33,
      "outputs": []
    },
    {
      "cell_type": "code",
      "source": [
        "print(convolution(picture, matrix, 6))"
      ],
      "metadata": {
        "colab": {
          "base_uri": "https://localhost:8080/"
        },
        "id": "kzWH5ZXBV5yA",
        "outputId": "3ef1c1c6-718e-4c71-d1a9-8bde46db4ee6"
      },
      "execution_count": 34,
      "outputs": [
        {
          "output_type": "stream",
          "name": "stdout",
          "text": [
            "[[16 25 18]\n",
            " [20 32 26]\n",
            " [12 21 17]]\n"
          ]
        }
      ]
    }
  ]
}