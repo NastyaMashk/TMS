{
  "nbformat": 4,
  "nbformat_minor": 0,
  "metadata": {
    "colab": {
      "provenance": []
    },
    "kernelspec": {
      "name": "python3",
      "display_name": "Python 3"
    },
    "language_info": {
      "name": "python"
    }
  },
  "cells": [
    {
      "cell_type": "code",
      "source": [
        "import numpy as np\n",
        "from scipy import stats\n",
        "import matplotlib.pyplot as plt"
      ],
      "metadata": {
        "id": "3VnW8Fhb7rAW"
      },
      "execution_count": 1,
      "outputs": []
    },
    {
      "cell_type": "code",
      "source": [
        "from scipy.special import perm, comb, factorial"
      ],
      "metadata": {
        "id": "OpJXmIzV8iIl"
      },
      "execution_count": 4,
      "outputs": []
    },
    {
      "cell_type": "markdown",
      "source": [
        "# **Комбинаторика**"
      ],
      "metadata": {
        "id": "3MBu-5Ci7TGN"
      }
    },
    {
      "cell_type": "markdown",
      "source": [
        "Задача 1. В группе 30 студентов, необходимо выбрать старосту, заместителя и профорга. Сколько существует способов это сделать?"
      ],
      "metadata": {
        "id": "l9oqdo6E7bSY"
      }
    },
    {
      "cell_type": "code",
      "source": [
        "k = np.array(3)\n",
        "n = np.array(30)\n",
        "perm(n, k)"
      ],
      "metadata": {
        "colab": {
          "base_uri": "https://localhost:8080/"
        },
        "id": "gqi3kbAj7pec",
        "outputId": "29a0b2e5-9333-4ca8-a004-f29250ed45ce"
      },
      "execution_count": 6,
      "outputs": [
        {
          "output_type": "execute_result",
          "data": {
            "text/plain": [
              "24360.0"
            ]
          },
          "metadata": {},
          "execution_count": 6
        }
      ]
    },
    {
      "cell_type": "markdown",
      "source": [
        "Задача 2. Два почтальона должны разнести 10 писем по 10 адресам. Сколькими способами они могут распределить работу?"
      ],
      "metadata": {
        "id": "j6_OaUcL8KJs"
      }
    },
    {
      "cell_type": "code",
      "source": [
        "k = np.array(2)\n",
        "n = np.array(10)\n",
        "k**n"
      ],
      "metadata": {
        "colab": {
          "base_uri": "https://localhost:8080/"
        },
        "id": "9_VRgyd08poM",
        "outputId": "38d05111-8b17-41d9-91ee-40eac7513c3a"
      },
      "execution_count": 9,
      "outputs": [
        {
          "output_type": "execute_result",
          "data": {
            "text/plain": [
              "1024"
            ]
          },
          "metadata": {},
          "execution_count": 9
        }
      ]
    },
    {
      "cell_type": "markdown",
      "source": [
        "Задача 3. В ящике 100 деталей, из них 30 – деталей 1-го сорта, 50 – 2-го, остальные – 3-\n",
        "го. Сколько существует способов извлечения из ящика одной детали 1-го или 2-го сорта?"
      ],
      "metadata": {
        "id": "JpBRPsTg_9UE"
      }
    },
    {
      "cell_type": "code",
      "source": [
        "k1 = np.array(30)\n",
        "k2 = np.array(50)\n",
        "n = np.array(100)\n",
        "\n",
        "k1 + k2"
      ],
      "metadata": {
        "colab": {
          "base_uri": "https://localhost:8080/"
        },
        "id": "19qAfrLF_-Jl",
        "outputId": "3b251ce5-500e-484d-ba23-799de77394bb"
      },
      "execution_count": 14,
      "outputs": [
        {
          "output_type": "execute_result",
          "data": {
            "text/plain": [
              "80"
            ]
          },
          "metadata": {},
          "execution_count": 14
        }
      ]
    },
    {
      "cell_type": "markdown",
      "source": [
        "Задача 5. Порядок выступления 7 участников конкурса определяется жребием. Сколько различных вариантов жеребьевки при этом возможно?"
      ],
      "metadata": {
        "id": "oXZ5WpVvBrOU"
      }
    },
    {
      "cell_type": "code",
      "source": [
        "n = np.array(7)\n",
        "factorial(n, exact =True)"
      ],
      "metadata": {
        "colab": {
          "base_uri": "https://localhost:8080/"
        },
        "id": "osYQT82wBv1w",
        "outputId": "c7269128-2676-4985-ba52-48c5752faf80"
      },
      "execution_count": 15,
      "outputs": [
        {
          "output_type": "execute_result",
          "data": {
            "text/plain": [
              "array(5040)"
            ]
          },
          "metadata": {},
          "execution_count": 15
        }
      ]
    },
    {
      "cell_type": "markdown",
      "source": [
        "Задача 6. В конкурсе по 5 номинациям участвуют 10 кинофильмов. Сколько существует вариантов распределения призов, если по всем номинациям установлены различные премии?"
      ],
      "metadata": {
        "id": "j8Zf9uzkB_Py"
      }
    },
    {
      "cell_type": "code",
      "source": [
        "k = np.array(5)\n",
        "n = np.array(10)\n",
        "n**k"
      ],
      "metadata": {
        "colab": {
          "base_uri": "https://localhost:8080/"
        },
        "id": "EPSGWdv2CdVR",
        "outputId": "b417f087-7975-4a55-8262-06828b019e73"
      },
      "execution_count": 16,
      "outputs": [
        {
          "output_type": "execute_result",
          "data": {
            "text/plain": [
              "100000"
            ]
          },
          "metadata": {},
          "execution_count": 16
        }
      ]
    },
    {
      "cell_type": "markdown",
      "source": [
        "Задача 7. В шахматном турнире участвуют 16 человек. Сколько партий должно быть сыграно в турнире, если между любыми двумя участниками должна быть сыграна одна партия?"
      ],
      "metadata": {
        "id": "jqG6dk5XCBsi"
      }
    },
    {
      "cell_type": "code",
      "source": [
        "k = np.array(2)\n",
        "n = np.array(16)\n",
        "comb(n, k, exact= True)"
      ],
      "metadata": {
        "colab": {
          "base_uri": "https://localhost:8080/"
        },
        "id": "jC5bB8kqC_rb",
        "outputId": "7bedc177-2206-432d-943d-7c4694c92b22"
      },
      "execution_count": 18,
      "outputs": [
        {
          "output_type": "execute_result",
          "data": {
            "text/plain": [
              "120"
            ]
          },
          "metadata": {},
          "execution_count": 18
        }
      ]
    },
    {
      "cell_type": "markdown",
      "source": [
        "Задача 8. В условиях задачи 6 определить, сколько существует вариантов распределения призов, если по всем номинациям установлены одинаковые призы?"
      ],
      "metadata": {
        "id": "kitljke5CEy_"
      }
    },
    {
      "cell_type": "code",
      "source": [
        "k = np.array(5)\n",
        "n = np.array(10)\n",
        "comb(n, k, exact=True, repetition=True)"
      ],
      "metadata": {
        "colab": {
          "base_uri": "https://localhost:8080/"
        },
        "id": "RvjrYK76IQrv",
        "outputId": "7cf5ebee-ac19-44b8-a705-a60e142feb08"
      },
      "execution_count": 23,
      "outputs": [
        {
          "output_type": "execute_result",
          "data": {
            "text/plain": [
              "2002"
            ]
          },
          "metadata": {},
          "execution_count": 23
        }
      ]
    },
    {
      "cell_type": "markdown",
      "source": [
        "Задача 9. Садовник должен в течении трех дней посадить 6 деревьев. Сколькими способами он может распределить по дням работу, если будет сажать не менее одного дерева в день?"
      ],
      "metadata": {
        "id": "MKWgWpX5CIqA"
      }
    },
    {
      "cell_type": "code",
      "source": [
        "k = np.array(2)\n",
        "n = np.array(5)\n",
        "comb(n,k)"
      ],
      "metadata": {
        "colab": {
          "base_uri": "https://localhost:8080/"
        },
        "id": "J8hKb8hMI2KP",
        "outputId": "8d57da2a-a32c-4563-a971-efb42e62db55"
      },
      "execution_count": 26,
      "outputs": [
        {
          "output_type": "execute_result",
          "data": {
            "text/plain": [
              "10.0"
            ]
          },
          "metadata": {},
          "execution_count": 26
        }
      ]
    },
    {
      "cell_type": "markdown",
      "source": [
        "Задача 10. Сколько существует четырехзначных чисел (возможно, начинающихся с нуля), сумма цифр которых равна 5?"
      ],
      "metadata": {
        "id": "OJMTRqBgCLOq"
      }
    },
    {
      "cell_type": "code",
      "source": [
        "n = np.array(6)\n",
        "k = np.array(3)\n",
        "comb(n, k, repetition=True)"
      ],
      "metadata": {
        "colab": {
          "base_uri": "https://localhost:8080/"
        },
        "id": "G9cPYklGT0RN",
        "outputId": "bc800b34-6b04-4c06-c14a-e654e21236e2"
      },
      "execution_count": 28,
      "outputs": [
        {
          "output_type": "execute_result",
          "data": {
            "text/plain": [
              "56.0"
            ]
          },
          "metadata": {},
          "execution_count": 28
        }
      ]
    },
    {
      "cell_type": "markdown",
      "source": [
        "Задача 11. Сколькими способами можно разбить группу из 25 студентов на три подгруппы А, В и С по 6, 9 и 10 человек соответственно?"
      ],
      "metadata": {
        "id": "IpwdlGmMCVZF"
      }
    },
    {
      "cell_type": "code",
      "source": [
        "a = 6\n",
        "b = 9\n",
        "c = 10\n",
        "n = 25\n",
        "comb(n, a, exact = True) * comb(n-a, b, exact = True) * comb(n-a-b, c, exact = True)"
      ],
      "metadata": {
        "colab": {
          "base_uri": "https://localhost:8080/"
        },
        "id": "I5E4ucFpQ5gF",
        "outputId": "ff9fe84f-fe00-49e5-f01f-373bddb00684"
      },
      "execution_count": 36,
      "outputs": [
        {
          "output_type": "execute_result",
          "data": {
            "text/plain": [
              "16360143800"
            ]
          },
          "metadata": {},
          "execution_count": 36
        }
      ]
    },
    {
      "cell_type": "markdown",
      "source": [
        "Задача 12. Сколько существует семизначных чисел, состоящих из цифр 4, 5 и 6, в которых цифра 4 повторяется 3 раза, а цифры 5 и 6 – по 2 раза?"
      ],
      "metadata": {
        "id": "yP8OkpeNCYg2"
      }
    },
    {
      "cell_type": "code",
      "source": [
        "n = np.array(7)\n",
        "k4 = np.array(3)\n",
        "k5 = np.array(2)\n",
        "k6 = np.array(2)\n",
        "factorial(n)/(factorial(k4)*factorial(k6)*factorial(k5))"
      ],
      "metadata": {
        "colab": {
          "base_uri": "https://localhost:8080/"
        },
        "id": "4i818xWyURxH",
        "outputId": "d535b809-744b-4b34-c6cf-34a4bcbbc32d"
      },
      "execution_count": 27,
      "outputs": [
        {
          "output_type": "execute_result",
          "data": {
            "text/plain": [
              "210.0"
            ]
          },
          "metadata": {},
          "execution_count": 27
        }
      ]
    },
    {
      "cell_type": "markdown",
      "source": [
        "# **Классическая вероятностная модель. Геометрическая вероятность**"
      ],
      "metadata": {
        "id": "ejZ8QNHpWz57"
      }
    },
    {
      "cell_type": "markdown",
      "source": [
        "Задача\t1. В ящике 5 апельсинов и 4 яблока. Наудачу выбираются 3 фрукта. Какова вероятность, что все три фрукта – апельсины?"
      ],
      "metadata": {
        "id": "FzL_W-I6XIaO"
      }
    },
    {
      "cell_type": "code",
      "source": [
        "probability = (5/9) * (4/8) * (3/7) # Вероятность того, что первый, второй и третий фрукт - апельсины\n",
        "probability"
      ],
      "metadata": {
        "colab": {
          "base_uri": "https://localhost:8080/"
        },
        "id": "jjhZejx_XLnI",
        "outputId": "d54a341f-c3d9-47bf-9d66-0efe6a88ac99"
      },
      "execution_count": 29,
      "outputs": [
        {
          "output_type": "execute_result",
          "data": {
            "text/plain": [
              "0.11904761904761904"
            ]
          },
          "metadata": {},
          "execution_count": 29
        }
      ]
    },
    {
      "cell_type": "markdown",
      "source": [
        "Задача 2. Преподаватель предлагает каждому из трех студентов задумать любое число от\n",
        "1 до 10. Считая, что выбор каждым из студентов любого числа из заданных равновозможен, найти вероятность того, что у кого-то из них задуманные числа совпадут."
      ],
      "metadata": {
        "id": "6A7AZXOKXMyh"
      }
    },
    {
      "cell_type": "code",
      "source": [
        "probability = 1 - (1 * 0.9 * 0.8) # вероятность того, что все не выберут разные числа\n",
        "probability"
      ],
      "metadata": {
        "colab": {
          "base_uri": "https://localhost:8080/"
        },
        "id": "BBtFOFdIYu64",
        "outputId": "a59bcbf3-b4ed-49a5-a2c0-e4bd7a22646f"
      },
      "execution_count": 33,
      "outputs": [
        {
          "output_type": "execute_result",
          "data": {
            "text/plain": [
              "0.2799999999999999"
            ]
          },
          "metadata": {},
          "execution_count": 33
        }
      ]
    },
    {
      "cell_type": "markdown",
      "source": [
        "Задача 3. Найти вероятность того, что в 8-значном числе ровно 4 цифры совпадают, а остальные различны."
      ],
      "metadata": {
        "id": "9H4hmRpkXQGs"
      }
    },
    {
      "cell_type": "code",
      "source": [
        "# ??????\n",
        "\n"
      ],
      "metadata": {
        "id": "DYQQ2vJKZu9w"
      },
      "execution_count": null,
      "outputs": []
    },
    {
      "cell_type": "markdown",
      "source": [
        "Задача 4. Шесть клиентов случайным образом обращаются в 5 фирм. Найти вероятность того, что хотя бы в одну фирму никто не обратится."
      ],
      "metadata": {
        "id": "oZBr_Da6XTxS"
      }
    },
    {
      "cell_type": "code",
      "source": [
        "# Вероятность того, что хотя бы в одну фирму никто не обратиться = вероятность того, что не обратяться во все фирмы\n",
        "\n",
        " # варианты выбора: 2 человека в любом случае выберут одну фирму (6 > 5), остальные будут выбирать из 4, 3, 2 и 1 соответственнo\n",
        "all_incoms = 5 ** 6\n",
        "bad_incoms = factorial(6)/factorial(2)\n",
        "probability = 1 - bad_incoms/all_incoms\n",
        "probability"
      ],
      "metadata": {
        "colab": {
          "base_uri": "https://localhost:8080/"
        },
        "id": "aJYSYxK7cJoh",
        "outputId": "177f9b1e-c7cb-4e27-b640-b0b6db847507"
      },
      "execution_count": 54,
      "outputs": [
        {
          "output_type": "execute_result",
          "data": {
            "text/plain": [
              "0.97696"
            ]
          },
          "metadata": {},
          "execution_count": 54
        }
      ]
    },
    {
      "cell_type": "markdown",
      "source": [
        "# **Основные формулы теории вероятностей**"
      ],
      "metadata": {
        "id": "YcMqZDR9XWpa"
      }
    },
    {
      "cell_type": "markdown",
      "source": [
        "Задача 1. В ящике 10 красных и 5 синих пуговиц. Вынимаются наудачу две пуговицы. Какова вероятность, что пуговицы будут одноцветными?"
      ],
      "metadata": {
        "id": "0-2y8Z4AihHC"
      }
    },
    {
      "cell_type": "code",
      "source": [
        "n = np.array(15)\n",
        "k = np.array(2)\n",
        "all_incomes = comb(n, k, exact = True, repetition= False )\n",
        "r = np.array(10)\n",
        "two_red = comb(r, k, exact = True, repetition= False)\n",
        "b = np.array(5)\n",
        "two_blue = comb(b, k, exact = True, repetition= False)\n",
        "probability = (two_red + two_blue)/all_incomes\n",
        "probability"
      ],
      "metadata": {
        "colab": {
          "base_uri": "https://localhost:8080/"
        },
        "id": "tv376REvnNJD",
        "outputId": "6f3e87ff-8011-4d96-dfcd-7eb3531c011c"
      },
      "execution_count": 47,
      "outputs": [
        {
          "output_type": "execute_result",
          "data": {
            "text/plain": [
              "0.5238095238095238"
            ]
          },
          "metadata": {},
          "execution_count": 47
        }
      ]
    },
    {
      "cell_type": "markdown",
      "source": [
        "Задача 2. Среди сотрудников фирмы 28% знают английский язык, 30% – немецкий, 42% – французский; английский и немецкий – 8%, английский и французский – 10%, немецкий и французский – 5%, все три языка – 3%. Найти вероятность того, что случайно выбранный сотрудник фирмы: а) знает английский или немецкий; б) знает английский, немецкий или французский; в) не знает ни один из перечисленных языков."
      ],
      "metadata": {
        "id": "zx2QMyj3ijzg"
      }
    },
    {
      "cell_type": "code",
      "source": [
        "prob_a = 1 - 0.42\n",
        "prob_b = 1\n",
        "prob_c = 0\n",
        "print(f\"Знает английский или немецкий : {prob_a * 100} %\")\n",
        "print(f\"Знает английский, немецкий или французский: {prob_b * 100} %\")\n",
        "print(f\"Не знает ни одного языка: {prob_c * 100} %\")"
      ],
      "metadata": {
        "colab": {
          "base_uri": "https://localhost:8080/"
        },
        "id": "bzEGo7RjoSkR",
        "outputId": "723598d7-e429-4560-c530-7f451f6a5441"
      },
      "execution_count": 50,
      "outputs": [
        {
          "output_type": "stream",
          "name": "stdout",
          "text": [
            "Знает английский или немецкий : 58.00000000000001 %\n",
            "Знает английский, немецкий или французский: 100 %\n",
            "Не знает ни одного языка: 0 %\n"
          ]
        }
      ]
    },
    {
      "cell_type": "markdown",
      "source": [
        "Задача 3. В семье – двое детей. Какова вероятность, что старший ребенок – мальчик, если известно, что в семье есть дети обоего пола?"
      ],
      "metadata": {
        "id": "NvJn4EYOim3I"
      }
    },
    {
      "cell_type": "code",
      "source": [
        "# Если из двоих детей и известно, что есть дети обоего пола, то 2 варианта: девочка и мальчик или мальчик и девочка\n",
        "prob = 1/2\n",
        "print(f\"Старший ребёнок мальчик с вероятностью {prob * 100} %\")"
      ],
      "metadata": {
        "colab": {
          "base_uri": "https://localhost:8080/"
        },
        "id": "HWqYHNUfuBt_",
        "outputId": "f7100593-909e-4ed9-e192-bb2b01d4f431"
      },
      "execution_count": 51,
      "outputs": [
        {
          "output_type": "stream",
          "name": "stdout",
          "text": [
            "Старший ребёнок мальчик с вероятностью 50.0 %\n"
          ]
        }
      ]
    }
  ]
}