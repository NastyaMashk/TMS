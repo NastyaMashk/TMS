{
  "nbformat": 4,
  "nbformat_minor": 0,
  "metadata": {
    "colab": {
      "provenance": []
    },
    "kernelspec": {
      "name": "python3",
      "display_name": "Python 3"
    },
    "language_info": {
      "name": "python"
    }
  },
  "cells": [
    {
      "cell_type": "code",
      "execution_count": null,
      "metadata": {
        "colab": {
          "base_uri": "https://localhost:8080/"
        },
        "id": "Rr1Je4hX3u7A",
        "outputId": "e1880f24-5a5a-4ab4-cafe-87b929473be8"
      },
      "outputs": [
        {
          "output_type": "execute_result",
          "data": {
            "text/plain": [
              "([1, 2, 3, 4, 5, 7, 8, 9], 36)"
            ]
          },
          "metadata": {},
          "execution_count": 3
        }
      ],
      "source": [
        "# сортировка\n",
        "arr = [1, 5, 7, 4, 3, 9, 8, 2]\n",
        "iter = 0\n",
        "\n",
        "for i in range(len(arr)):\n",
        "  for j in range(i, len(arr)):\n",
        "    if arr[j] < arr[i]:\n",
        "      arr[i], arr[j] = arr[j], arr[i]\n",
        "    iter += 1\n",
        "arr, iter"
      ]
    },
    {
      "cell_type": "code",
      "source": [
        "# уравнение\n",
        "\n",
        "# введите коэфициенты a, b, c для решения уравнения вида ax^2 + bx + c = 0\n",
        "\n",
        "a, b, c =  int(input()), int(input()), int(input())\n",
        "d = b ** 2 - 4 * a * c\n",
        "x1 = (- b + d ** 0.5)/ (2 * a)\n",
        "x2 = (- b - d ** 0.5)/ (2 * a)\n",
        "x1, x2"
      ],
      "metadata": {
        "colab": {
          "base_uri": "https://localhost:8080/"
        },
        "id": "HXYp75qTCGwk",
        "outputId": "03f48714-2be9-42f5-8cda-941cfab2dc7e"
      },
      "execution_count": null,
      "outputs": [
        {
          "name": "stdout",
          "output_type": "stream",
          "text": [
            "1\n",
            "-2\n",
            "-63\n"
          ]
        },
        {
          "output_type": "execute_result",
          "data": {
            "text/plain": [
              "(9.0, -7.0)"
            ]
          },
          "metadata": {},
          "execution_count": 15
        }
      ]
    },
    {
      "cell_type": "code",
      "source": [
        "# уравнение 2\n",
        "# введите коэфициенты a, b, c для решения уравнения вида a(x^2-8)^2 + b(x^2-8) + c = 0\n",
        "\n",
        "a, b, c =  int(input()), int(input()), int(input())\n",
        "d = b ** 2 - 4 * a * c\n",
        "xx1 = (- b + d ** 0.5)/ (2 * a)\n",
        "xx2 = (- b - d ** 0.5)/ (2 * a)\n",
        "\n",
        "x1= (xx1 + 8) ** 0.5\n",
        "x2 = x1 * (-1)\n",
        "x3 = (xx2 + 8) ** 0.5\n",
        "x4 = x3 * (-1)\n",
        "x1, x2, x3, x4\n"
      ],
      "metadata": {
        "colab": {
          "base_uri": "https://localhost:8080/"
        },
        "id": "Ll73D1gDEAeS",
        "outputId": "67d1b224-4be5-4c86-d56b-95b6f2898c8b"
      },
      "execution_count": null,
      "outputs": [
        {
          "name": "stdout",
          "output_type": "stream",
          "text": [
            "1\n",
            "4\n",
            "-5\n"
          ]
        },
        {
          "output_type": "execute_result",
          "data": {
            "text/plain": [
              "(3.0, -3.0, 1.7320508075688772, -1.7320508075688772)"
            ]
          },
          "metadata": {},
          "execution_count": 18
        }
      ]
    },
    {
      "cell_type": "code",
      "source": [
        "# обратный список\n",
        "\n",
        "lst = [1, 2, 3, 4, 5]\n",
        "print(lst[::-1])"
      ],
      "metadata": {
        "colab": {
          "base_uri": "https://localhost:8080/"
        },
        "id": "hPzkjU9EFzkn",
        "outputId": "6ccf4cd0-2924-475d-f808-78fd78133504"
      },
      "execution_count": null,
      "outputs": [
        {
          "output_type": "stream",
          "name": "stdout",
          "text": [
            "[5, 4, 3, 2, 1]\n"
          ]
        }
      ]
    },
    {
      "cell_type": "code",
      "source": [
        "# смена элементов\n",
        "\n",
        "lst = [1, 2, 3, 4, 5]\n",
        "def change(lst):\n",
        "  first = 0\n",
        "  last = len(lst)-1\n",
        "  lst[first], lst[last] = lst[last], lst[first]\n",
        "change(lst)\n",
        "lst"
      ],
      "metadata": {
        "colab": {
          "base_uri": "https://localhost:8080/"
        },
        "id": "ADrJet2PGAC3",
        "outputId": "e95dd612-3660-4af2-ef59-8490892da0f0"
      },
      "execution_count": null,
      "outputs": [
        {
          "output_type": "execute_result",
          "data": {
            "text/plain": [
              "[5, 2, 3, 4, 1]"
            ]
          },
          "metadata": {},
          "execution_count": 21
        }
      ]
    },
    {
      "cell_type": "code",
      "source": [
        "# николай задумался\n",
        "\n",
        "lst = [1, 5, 7, 4, 3, 10, 8, 2]\n",
        "def useless(s):\n",
        "  max_item = s[0]\n",
        "  for i in range(1,len(s)):\n",
        "    if s[i] > max_item:\n",
        "      max_item = s[i]\n",
        "  usl = len(s) / max_item\n",
        "  print(usl)\n",
        "useless(lst)"
      ],
      "metadata": {
        "colab": {
          "base_uri": "https://localhost:8080/"
        },
        "id": "sUqZYrmxGd1S",
        "outputId": "97817535-2474-4090-d3e1-28ae6c52d587"
      },
      "execution_count": null,
      "outputs": [
        {
          "output_type": "stream",
          "name": "stdout",
          "text": [
            "0.8\n"
          ]
        }
      ]
    },
    {
      "cell_type": "code",
      "source": [
        "# строки одинаковой длины\n",
        "\n",
        "lst = ['крот', 'белка', 'выхухоль']\n",
        "def all_eq(s):\n",
        "  new_lst = []\n",
        "  max_len = 0\n",
        "  for value in s:\n",
        "    if len(value) > max_len:\n",
        "      max_len = len(value)\n",
        "  for value in s:\n",
        "    new_lst.append(value + '_'*(max_len - len(value)))\n",
        "  return new_lst\n",
        "new_lst = all_eq(lst)\n",
        "new_lst"
      ],
      "metadata": {
        "colab": {
          "base_uri": "https://localhost:8080/"
        },
        "id": "jE3s4puSHd8J",
        "outputId": "61e67965-6344-4b03-ed5c-90915f2f3882"
      },
      "execution_count": null,
      "outputs": [
        {
          "output_type": "execute_result",
          "data": {
            "text/plain": [
              "['крот____', 'белка___', 'выхухоль']"
            ]
          },
          "metadata": {},
          "execution_count": 8
        }
      ]
    }
  ]
}