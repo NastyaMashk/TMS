{
  "nbformat": 4,
  "nbformat_minor": 0,
  "metadata": {
    "colab": {
      "provenance": []
    },
    "kernelspec": {
      "name": "python3",
      "display_name": "Python 3"
    },
    "language_info": {
      "name": "python"
    }
  },
  "cells": [
    {
      "cell_type": "code",
      "source": [
        "# функция для разделения строки и преобразования в список\n",
        "\n",
        "s = 'robert downey junior'\n",
        "\n",
        "def list_from_str(st: str) -> list:\n",
        "\n",
        "  lst = s.split(' ')\n",
        "\n",
        "  return lst\n",
        "\n",
        "list_from_str(s)"
      ],
      "metadata": {
        "id": "jghT1MFXy-fs",
        "colab": {
          "base_uri": "https://localhost:8080/"
        },
        "outputId": "dd0bf647-ab62-4e5b-cee3-f2efac447987"
      },
      "execution_count": null,
      "outputs": [
        {
          "output_type": "execute_result",
          "data": {
            "text/plain": [
              "['robert', 'downey', 'junior']"
            ]
          },
          "metadata": {},
          "execution_count": 2
        }
      ]
    },
    {
      "cell_type": "code",
      "execution_count": null,
      "metadata": {
        "colab": {
          "base_uri": "https://localhost:8080/"
        },
        "id": "VDYFcj7mxeLP",
        "outputId": "54b4f9ed-d1f1-4b60-f55f-fc4711ebec02"
      },
      "outputs": [
        {
          "output_type": "execute_result",
          "data": {
            "text/plain": [
              "2"
            ]
          },
          "metadata": {},
          "execution_count": 8
        }
      ],
      "source": [
        "# натан и велосипед\n",
        "\n",
        "import math\n",
        "\n",
        "def liters_of_water(time: int) -> int:\n",
        "\n",
        "  liters_per_hour = 0.5\n",
        "  water = math.floor(liters_per_hour * time)\n",
        "\n",
        "  return water\n",
        "\n",
        "liters_of_water(5)"
      ]
    },
    {
      "cell_type": "code",
      "source": [
        "# числа от n до 1 по убыванию\n",
        "\n",
        "n = 6\n",
        "\n",
        "def some_func(n: int) -> list:\n",
        "\n",
        "  lst = []\n",
        "\n",
        "  for i in range(n, 0, -1):\n",
        "    lst.append(i)\n",
        "\n",
        "  return lst\n",
        "\n",
        "some_func(n)"
      ],
      "metadata": {
        "colab": {
          "base_uri": "https://localhost:8080/"
        },
        "id": "wvTPl5aryH3m",
        "outputId": "551caf42-b122-4bc3-b176-e741fbe02897"
      },
      "execution_count": null,
      "outputs": [
        {
          "output_type": "execute_result",
          "data": {
            "text/plain": [
              "[6, 5, 4, 3, 2, 1]"
            ]
          },
          "metadata": {},
          "execution_count": 10
        }
      ]
    },
    {
      "cell_type": "code",
      "source": [
        "#  вывести век, в котором находится год\n",
        "\n",
        "year = 1784\n",
        "\n",
        "def cen_of_year(year: int) -> int:\n",
        "\n",
        "  century = year // 100 + 1\n",
        "\n",
        "  return century\n",
        "\n",
        "cen_of_year(year)"
      ],
      "metadata": {
        "colab": {
          "base_uri": "https://localhost:8080/"
        },
        "id": "WWFTyeZLyWnH",
        "outputId": "eb1b15fd-5599-4420-e8b4-e992adc5f38b"
      },
      "execution_count": null,
      "outputs": [
        {
          "output_type": "execute_result",
          "data": {
            "text/plain": [
              "18"
            ]
          },
          "metadata": {},
          "execution_count": 11
        }
      ]
    },
    {
      "cell_type": "code",
      "source": [
        "# цифры числа в обратном порядке\n",
        "\n",
        "numb = 123456789\n",
        "\n",
        "def list_from_number(numb: int) -> list:\n",
        "\n",
        "  lst = []\n",
        "\n",
        "  while numb > 9:\n",
        "    lst.append(numb % 10)\n",
        "    numb //= 10\n",
        "\n",
        "  return lst\n",
        "\n",
        "list_from_number(numb)"
      ],
      "metadata": {
        "colab": {
          "base_uri": "https://localhost:8080/"
        },
        "id": "CPnHdw0zymsq",
        "outputId": "7af04105-d8e9-4168-c8bf-c650c9c29295"
      },
      "execution_count": null,
      "outputs": [
        {
          "output_type": "execute_result",
          "data": {
            "text/plain": [
              "[9, 8, 7, 6, 5, 4, 3, 2]"
            ]
          },
          "metadata": {},
          "execution_count": 12
        }
      ]
    },
    {
      "cell_type": "code",
      "source": [
        "# vertical matrix\n",
        "\n",
        "k = 4\n",
        "\n",
        "def some_matrix(size: int) -> list:\n",
        "\n",
        "  counter = 10\n",
        "  matr = []\n",
        "\n",
        "  for _ in range(size):\n",
        "    matr.append([])\n",
        "\n",
        "  for i in range(size):\n",
        "    if i % 2 == 0:\n",
        "      for j in range(size):\n",
        "        matr[j].append(counter)\n",
        "        counter += 1\n",
        "    else:\n",
        "      for j in range(size-1,-1,-1):\n",
        "        matr[j].append(counter)\n",
        "        counter += 1\n",
        "\n",
        "  return matr\n",
        "\n",
        "some_matrix(5)"
      ],
      "metadata": {
        "colab": {
          "base_uri": "https://localhost:8080/"
        },
        "id": "Pz8kcUV6LTXb",
        "outputId": "465a057b-2161-4523-d56c-4f112d0f639f"
      },
      "execution_count": null,
      "outputs": [
        {
          "output_type": "execute_result",
          "data": {
            "text/plain": [
              "[[10, 19, 20, 29, 30],\n",
              " [11, 18, 21, 28, 31],\n",
              " [12, 17, 22, 27, 32],\n",
              " [13, 16, 23, 26, 33],\n",
              " [14, 15, 24, 25, 34]]"
            ]
          },
          "metadata": {},
          "execution_count": 6
        }
      ]
    },
    {
      "cell_type": "code",
      "source": [
        "# horizontal matrix\n",
        "\n",
        "n = 5\n",
        "\n",
        "def matrix_size_n(size: int) -> list:\n",
        "\n",
        "  counter = 10\n",
        "  matr = []\n",
        "\n",
        "  for i in range(size):\n",
        "    temp = []\n",
        "    for j in range(size):\n",
        "        temp.append(counter)\n",
        "        counter += 1\n",
        "    if i % 2 == 0:\n",
        "      matr.append(temp)\n",
        "    else:\n",
        "      matr.append(temp[::-1])\n",
        "\n",
        "  return matr\n",
        "\n",
        "matrix_size_n(n)"
      ],
      "metadata": {
        "colab": {
          "base_uri": "https://localhost:8080/"
        },
        "id": "G_6w-KjHIk2z",
        "outputId": "3ecb5e40-85a3-4fa6-c99c-8e554404afbb"
      },
      "execution_count": null,
      "outputs": [
        {
          "output_type": "execute_result",
          "data": {
            "text/plain": [
              "[[10, 11, 12, 13, 14],\n",
              " [19, 18, 17, 16, 15],\n",
              " [20, 21, 22, 23, 24],\n",
              " [29, 28, 27, 26, 25],\n",
              " [30, 31, 32, 33, 34]]"
            ]
          },
          "metadata": {},
          "execution_count": 4
        }
      ]
    }
  ]
}